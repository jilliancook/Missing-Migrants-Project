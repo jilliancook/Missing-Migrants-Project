{
 "cells": [
  {
   "cell_type": "markdown",
   "id": "e9808041",
   "metadata": {},
   "source": [
    "# DSCI 235 Final Project: Missing Migrants Project\n",
    "\n",
    "GitHub: https://github.com/jilliancook/Missing-Migrants-Project.git\n",
    "\n",
    "The Missing Migrants Project was started in 2013 by the International Organization for Migration (IOM) and continues to track the deaths of migrants who have gone missing along their journey. Now a source of advocacy, the Missing Migrants Project aims to bring awareness to the migrant struggle. \n",
    "\n",
    "I am currently in a seminar class that focuses on refugees and migrants, and I've been learning about the complex and interdisciplinary nature of various refugee crises. This project will be an extension of a topic to which I have become very exposed, and I hope my analysis will shed light on the subject. \n"
   ]
  },
  {
   "cell_type": "markdown",
   "id": "7e2d9d28",
   "metadata": {},
   "source": [
    "## Part 1: Reading in and cleaning data"
   ]
  },
  {
   "cell_type": "code",
   "execution_count": 1,
   "id": "40e6362a",
   "metadata": {},
   "outputs": [],
   "source": [
    "import pandas as pd\n",
    "import numpy as np\n",
    "import matplotlib.pyplot as plt"
   ]
  },
  {
   "cell_type": "code",
   "execution_count": 2,
   "id": "dbece17c",
   "metadata": {},
   "outputs": [
    {
     "data": {
      "text/html": [
       "<div>\n",
       "<style scoped>\n",
       "    .dataframe tbody tr th:only-of-type {\n",
       "        vertical-align: middle;\n",
       "    }\n",
       "\n",
       "    .dataframe tbody tr th {\n",
       "        vertical-align: top;\n",
       "    }\n",
       "\n",
       "    .dataframe thead th {\n",
       "        text-align: right;\n",
       "    }\n",
       "</style>\n",
       "<table border=\"1\" class=\"dataframe\">\n",
       "  <thead>\n",
       "    <tr style=\"text-align: right;\">\n",
       "      <th></th>\n",
       "      <th>Web ID</th>\n",
       "      <th>Region of Incident</th>\n",
       "      <th>Reported Date</th>\n",
       "      <th>Reported Year</th>\n",
       "      <th>Reported Month</th>\n",
       "      <th>Number Dead</th>\n",
       "      <th>Minimum Estimated Number of Missing</th>\n",
       "      <th>Total Dead and Missing</th>\n",
       "      <th>Number of Survivors</th>\n",
       "      <th>Number of Females</th>\n",
       "      <th>Number of Males</th>\n",
       "      <th>Number of Children</th>\n",
       "      <th>Cause of Death</th>\n",
       "      <th>Location Description</th>\n",
       "      <th>Information Source</th>\n",
       "      <th>Location Coordinates</th>\n",
       "      <th>Migration Route</th>\n",
       "      <th>URL</th>\n",
       "      <th>UNSD Geographical Grouping</th>\n",
       "      <th>Source Quality</th>\n",
       "    </tr>\n",
       "  </thead>\n",
       "  <tbody>\n",
       "    <tr>\n",
       "      <th>0</th>\n",
       "      <td>52673</td>\n",
       "      <td>Mediterranean</td>\n",
       "      <td>December 30, 2019</td>\n",
       "      <td>2019</td>\n",
       "      <td>Dec</td>\n",
       "      <td>1.0</td>\n",
       "      <td>NaN</td>\n",
       "      <td>1</td>\n",
       "      <td>11.0</td>\n",
       "      <td>NaN</td>\n",
       "      <td>NaN</td>\n",
       "      <td>NaN</td>\n",
       "      <td>Hypothermia</td>\n",
       "      <td>Unspecififed location off the coast of Algeria</td>\n",
       "      <td>El Watan</td>\n",
       "      <td>35.568972356329, -1.289773129748</td>\n",
       "      <td>Western Mediterranean</td>\n",
       "      <td>https://bit.ly/2FqQHo4</td>\n",
       "      <td>Uncategorized</td>\n",
       "      <td>1</td>\n",
       "    </tr>\n",
       "    <tr>\n",
       "      <th>1</th>\n",
       "      <td>52666</td>\n",
       "      <td>Mediterranean</td>\n",
       "      <td>December 30, 2019</td>\n",
       "      <td>2019</td>\n",
       "      <td>Dec</td>\n",
       "      <td>1.0</td>\n",
       "      <td>NaN</td>\n",
       "      <td>1</td>\n",
       "      <td>NaN</td>\n",
       "      <td>NaN</td>\n",
       "      <td>1.0</td>\n",
       "      <td>NaN</td>\n",
       "      <td>Presumed drowning</td>\n",
       "      <td>Recoverd on Calamorcarro Beach, Ceuta</td>\n",
       "      <td>El Foro de Ceuta</td>\n",
       "      <td>35.912383552874, -5.357673338898</td>\n",
       "      <td>Western Mediterranean</td>\n",
       "      <td>https://bit.ly/39yKRyF</td>\n",
       "      <td>Uncategorized</td>\n",
       "      <td>1</td>\n",
       "    </tr>\n",
       "    <tr>\n",
       "      <th>2</th>\n",
       "      <td>52663</td>\n",
       "      <td>East Asia</td>\n",
       "      <td>December 27, 2019</td>\n",
       "      <td>2019</td>\n",
       "      <td>Dec</td>\n",
       "      <td>5.0</td>\n",
       "      <td>NaN</td>\n",
       "      <td>5</td>\n",
       "      <td>NaN</td>\n",
       "      <td>NaN</td>\n",
       "      <td>3.0</td>\n",
       "      <td>NaN</td>\n",
       "      <td>Unknown</td>\n",
       "      <td>Bodies found on boat near Sado Island, Niigata...</td>\n",
       "      <td>Japan Times, Kyodo News, AFP</td>\n",
       "      <td>38.154018233313, 138.086032653130</td>\n",
       "      <td>NaN</td>\n",
       "      <td>http://bit.ly/2sCnBz1, http://bit.ly/2sEra83, ...</td>\n",
       "      <td>Eastern Asia</td>\n",
       "      <td>3</td>\n",
       "    </tr>\n",
       "    <tr>\n",
       "      <th>3</th>\n",
       "      <td>52662</td>\n",
       "      <td>Middle East</td>\n",
       "      <td>December 26, 2019</td>\n",
       "      <td>2019</td>\n",
       "      <td>Dec</td>\n",
       "      <td>7.0</td>\n",
       "      <td>NaN</td>\n",
       "      <td>7</td>\n",
       "      <td>64.0</td>\n",
       "      <td>NaN</td>\n",
       "      <td>NaN</td>\n",
       "      <td>NaN</td>\n",
       "      <td>Drowning</td>\n",
       "      <td>Van lake near Adilcevaz, Bitlis, Turkey</td>\n",
       "      <td>EFE, BBC, ARYnews</td>\n",
       "      <td>38.777228612085, 42.739257582031</td>\n",
       "      <td>NaN</td>\n",
       "      <td>http://bit.ly/2ZG2Y19, http://bit.ly/2MLamDf, ...</td>\n",
       "      <td>Western Asia</td>\n",
       "      <td>3</td>\n",
       "    </tr>\n",
       "    <tr>\n",
       "      <th>4</th>\n",
       "      <td>52661</td>\n",
       "      <td>Middle East</td>\n",
       "      <td>December 24, 2019</td>\n",
       "      <td>2019</td>\n",
       "      <td>Dec</td>\n",
       "      <td>12.0</td>\n",
       "      <td>NaN</td>\n",
       "      <td>12</td>\n",
       "      <td>NaN</td>\n",
       "      <td>NaN</td>\n",
       "      <td>NaN</td>\n",
       "      <td>NaN</td>\n",
       "      <td>Air strike</td>\n",
       "      <td>Al-Raqw market in Saada, Yemen</td>\n",
       "      <td>UN Humanitarian Coordinator in Yemen, Qatar Tr...</td>\n",
       "      <td>17.245364805636, 43.239093360326</td>\n",
       "      <td>NaN</td>\n",
       "      <td>http://bit.ly/2FjolvD, http://bit.ly/2sD42GR, ...</td>\n",
       "      <td>Western Asia</td>\n",
       "      <td>4</td>\n",
       "    </tr>\n",
       "  </tbody>\n",
       "</table>\n",
       "</div>"
      ],
      "text/plain": [
       "   Web ID Region of Incident      Reported Date  Reported Year Reported Month  \\\n",
       "0   52673      Mediterranean  December 30, 2019           2019            Dec   \n",
       "1   52666      Mediterranean  December 30, 2019           2019            Dec   \n",
       "2   52663          East Asia  December 27, 2019           2019            Dec   \n",
       "3   52662        Middle East  December 26, 2019           2019            Dec   \n",
       "4   52661        Middle East  December 24, 2019           2019            Dec   \n",
       "\n",
       "   Number Dead  Minimum Estimated Number of Missing  Total Dead and Missing  \\\n",
       "0          1.0                                  NaN                       1   \n",
       "1          1.0                                  NaN                       1   \n",
       "2          5.0                                  NaN                       5   \n",
       "3          7.0                                  NaN                       7   \n",
       "4         12.0                                  NaN                      12   \n",
       "\n",
       "   Number of Survivors  Number of Females  Number of Males  \\\n",
       "0                 11.0                NaN              NaN   \n",
       "1                  NaN                NaN              1.0   \n",
       "2                  NaN                NaN              3.0   \n",
       "3                 64.0                NaN              NaN   \n",
       "4                  NaN                NaN              NaN   \n",
       "\n",
       "   Number of Children     Cause of Death  \\\n",
       "0                 NaN        Hypothermia   \n",
       "1                 NaN  Presumed drowning   \n",
       "2                 NaN            Unknown   \n",
       "3                 NaN           Drowning   \n",
       "4                 NaN         Air strike   \n",
       "\n",
       "                                Location Description  \\\n",
       "0     Unspecififed location off the coast of Algeria   \n",
       "1              Recoverd on Calamorcarro Beach, Ceuta   \n",
       "2  Bodies found on boat near Sado Island, Niigata...   \n",
       "3            Van lake near Adilcevaz, Bitlis, Turkey   \n",
       "4                     Al-Raqw market in Saada, Yemen   \n",
       "\n",
       "                                  Information Source  \\\n",
       "0                                           El Watan   \n",
       "1                                   El Foro de Ceuta   \n",
       "2                       Japan Times, Kyodo News, AFP   \n",
       "3                                  EFE, BBC, ARYnews   \n",
       "4  UN Humanitarian Coordinator in Yemen, Qatar Tr...   \n",
       "\n",
       "                Location Coordinates        Migration Route  \\\n",
       "0   35.568972356329, -1.289773129748  Western Mediterranean   \n",
       "1   35.912383552874, -5.357673338898  Western Mediterranean   \n",
       "2  38.154018233313, 138.086032653130                    NaN   \n",
       "3   38.777228612085, 42.739257582031                    NaN   \n",
       "4   17.245364805636, 43.239093360326                    NaN   \n",
       "\n",
       "                                                 URL  \\\n",
       "0                             https://bit.ly/2FqQHo4   \n",
       "1                             https://bit.ly/39yKRyF   \n",
       "2  http://bit.ly/2sCnBz1, http://bit.ly/2sEra83, ...   \n",
       "3  http://bit.ly/2ZG2Y19, http://bit.ly/2MLamDf, ...   \n",
       "4  http://bit.ly/2FjolvD, http://bit.ly/2sD42GR, ...   \n",
       "\n",
       "  UNSD Geographical Grouping  Source Quality  \n",
       "0              Uncategorized               1  \n",
       "1              Uncategorized               1  \n",
       "2               Eastern Asia               3  \n",
       "3               Western Asia               3  \n",
       "4               Western Asia               4  "
      ]
     },
     "execution_count": 2,
     "metadata": {},
     "output_type": "execute_result"
    }
   ],
   "source": [
    "import os\n",
    "working_directory = os.getcwd()\n",
    "path = working_directory + '/Missing_Migrants.csv'\n",
    "\n",
    "data = pd.read_csv(path)\n",
    "data.head()"
   ]
  },
  {
   "cell_type": "markdown",
   "id": "d2cf8cef",
   "metadata": {},
   "source": [
    "I am not concerned with certain columns in this data set, so I'm going to drop those that aren't relevant to my analysis. I am also going to fill all numerical NaN values with 0."
   ]
  },
  {
   "cell_type": "code",
   "execution_count": 3,
   "id": "ca96791d",
   "metadata": {},
   "outputs": [
    {
     "data": {
      "text/html": [
       "<div>\n",
       "<style scoped>\n",
       "    .dataframe tbody tr th:only-of-type {\n",
       "        vertical-align: middle;\n",
       "    }\n",
       "\n",
       "    .dataframe tbody tr th {\n",
       "        vertical-align: top;\n",
       "    }\n",
       "\n",
       "    .dataframe thead th {\n",
       "        text-align: right;\n",
       "    }\n",
       "</style>\n",
       "<table border=\"1\" class=\"dataframe\">\n",
       "  <thead>\n",
       "    <tr style=\"text-align: right;\">\n",
       "      <th></th>\n",
       "      <th>Region of Incident</th>\n",
       "      <th>Reported Year</th>\n",
       "      <th>Reported Month</th>\n",
       "      <th>Number Dead</th>\n",
       "      <th>Minimum Estimated Number of Missing</th>\n",
       "      <th>Total Dead and Missing</th>\n",
       "      <th>Number of Survivors</th>\n",
       "      <th>Number of Females</th>\n",
       "      <th>Number of Males</th>\n",
       "      <th>Number of Children</th>\n",
       "      <th>Cause of Death</th>\n",
       "      <th>Location Description</th>\n",
       "      <th>Migration Route</th>\n",
       "      <th>UNSD Geographical Grouping</th>\n",
       "    </tr>\n",
       "  </thead>\n",
       "  <tbody>\n",
       "    <tr>\n",
       "      <th>0</th>\n",
       "      <td>Mediterranean</td>\n",
       "      <td>2019</td>\n",
       "      <td>Dec</td>\n",
       "      <td>1.0</td>\n",
       "      <td>0.0</td>\n",
       "      <td>1</td>\n",
       "      <td>11.0</td>\n",
       "      <td>0.0</td>\n",
       "      <td>0.0</td>\n",
       "      <td>0.0</td>\n",
       "      <td>Hypothermia</td>\n",
       "      <td>Unspecififed location off the coast of Algeria</td>\n",
       "      <td>Western Mediterranean</td>\n",
       "      <td>Uncategorized</td>\n",
       "    </tr>\n",
       "    <tr>\n",
       "      <th>1</th>\n",
       "      <td>Mediterranean</td>\n",
       "      <td>2019</td>\n",
       "      <td>Dec</td>\n",
       "      <td>1.0</td>\n",
       "      <td>0.0</td>\n",
       "      <td>1</td>\n",
       "      <td>0.0</td>\n",
       "      <td>0.0</td>\n",
       "      <td>1.0</td>\n",
       "      <td>0.0</td>\n",
       "      <td>Presumed drowning</td>\n",
       "      <td>Recoverd on Calamorcarro Beach, Ceuta</td>\n",
       "      <td>Western Mediterranean</td>\n",
       "      <td>Uncategorized</td>\n",
       "    </tr>\n",
       "    <tr>\n",
       "      <th>2</th>\n",
       "      <td>East Asia</td>\n",
       "      <td>2019</td>\n",
       "      <td>Dec</td>\n",
       "      <td>5.0</td>\n",
       "      <td>0.0</td>\n",
       "      <td>5</td>\n",
       "      <td>0.0</td>\n",
       "      <td>0.0</td>\n",
       "      <td>3.0</td>\n",
       "      <td>0.0</td>\n",
       "      <td>Unknown</td>\n",
       "      <td>Bodies found on boat near Sado Island, Niigata...</td>\n",
       "      <td>NaN</td>\n",
       "      <td>Eastern Asia</td>\n",
       "    </tr>\n",
       "    <tr>\n",
       "      <th>3</th>\n",
       "      <td>Middle East</td>\n",
       "      <td>2019</td>\n",
       "      <td>Dec</td>\n",
       "      <td>7.0</td>\n",
       "      <td>0.0</td>\n",
       "      <td>7</td>\n",
       "      <td>64.0</td>\n",
       "      <td>0.0</td>\n",
       "      <td>0.0</td>\n",
       "      <td>0.0</td>\n",
       "      <td>Drowning</td>\n",
       "      <td>Van lake near Adilcevaz, Bitlis, Turkey</td>\n",
       "      <td>NaN</td>\n",
       "      <td>Western Asia</td>\n",
       "    </tr>\n",
       "    <tr>\n",
       "      <th>4</th>\n",
       "      <td>Middle East</td>\n",
       "      <td>2019</td>\n",
       "      <td>Dec</td>\n",
       "      <td>12.0</td>\n",
       "      <td>0.0</td>\n",
       "      <td>12</td>\n",
       "      <td>0.0</td>\n",
       "      <td>0.0</td>\n",
       "      <td>0.0</td>\n",
       "      <td>0.0</td>\n",
       "      <td>Air strike</td>\n",
       "      <td>Al-Raqw market in Saada, Yemen</td>\n",
       "      <td>NaN</td>\n",
       "      <td>Western Asia</td>\n",
       "    </tr>\n",
       "  </tbody>\n",
       "</table>\n",
       "</div>"
      ],
      "text/plain": [
       "  Region of Incident  Reported Year Reported Month  Number Dead  \\\n",
       "0      Mediterranean           2019            Dec          1.0   \n",
       "1      Mediterranean           2019            Dec          1.0   \n",
       "2          East Asia           2019            Dec          5.0   \n",
       "3        Middle East           2019            Dec          7.0   \n",
       "4        Middle East           2019            Dec         12.0   \n",
       "\n",
       "   Minimum Estimated Number of Missing  Total Dead and Missing  \\\n",
       "0                                  0.0                       1   \n",
       "1                                  0.0                       1   \n",
       "2                                  0.0                       5   \n",
       "3                                  0.0                       7   \n",
       "4                                  0.0                      12   \n",
       "\n",
       "   Number of Survivors  Number of Females  Number of Males  \\\n",
       "0                 11.0                0.0              0.0   \n",
       "1                  0.0                0.0              1.0   \n",
       "2                  0.0                0.0              3.0   \n",
       "3                 64.0                0.0              0.0   \n",
       "4                  0.0                0.0              0.0   \n",
       "\n",
       "   Number of Children     Cause of Death  \\\n",
       "0                 0.0        Hypothermia   \n",
       "1                 0.0  Presumed drowning   \n",
       "2                 0.0            Unknown   \n",
       "3                 0.0           Drowning   \n",
       "4                 0.0         Air strike   \n",
       "\n",
       "                                Location Description        Migration Route  \\\n",
       "0     Unspecififed location off the coast of Algeria  Western Mediterranean   \n",
       "1              Recoverd on Calamorcarro Beach, Ceuta  Western Mediterranean   \n",
       "2  Bodies found on boat near Sado Island, Niigata...                    NaN   \n",
       "3            Van lake near Adilcevaz, Bitlis, Turkey                    NaN   \n",
       "4                     Al-Raqw market in Saada, Yemen                    NaN   \n",
       "\n",
       "  UNSD Geographical Grouping  \n",
       "0              Uncategorized  \n",
       "1              Uncategorized  \n",
       "2               Eastern Asia  \n",
       "3               Western Asia  \n",
       "4               Western Asia  "
      ]
     },
     "execution_count": 3,
     "metadata": {},
     "output_type": "execute_result"
    }
   ],
   "source": [
    "df = data.drop(['Reported Date', 'Web ID', 'Information Source', 'URL', 'Source Quality', 'Location Coordinates'], axis=1)\n",
    "df[[\"Number Dead\",\"Minimum Estimated Number of Missing\",\"Total Dead and Missing\",\"Number of Survivors\",\"Number of Females\",\"Number of Males\",\"Number of Children\"]] = df[[\"Number Dead\",\"Minimum Estimated Number of Missing\",\"Total Dead and Missing\",\"Number of Survivors\",\"Number of Females\",\"Number of Males\",\"Number of Children\"]].fillna(0)\n",
    "df.head()"
   ]
  },
  {
   "cell_type": "markdown",
   "id": "00f44682",
   "metadata": {},
   "source": [
    "The data now includes the following columns:\n",
    "\n",
    "* **Region of Incident**: Region in which incident took place\n",
    "* **Reported Year/Month**: Estimated Year/Month in which incident took place\n",
    "* **Number Dead**: Total number of people confirmed dead, marked by the number of bodies recovered\n",
    "* **Minimum Estimated Number of Missing**: Estimated number of those who are missing, and therefore also presumed dead\n",
    "* **Total Dead and Missing**: Sum of 'Number Dead' and 'Minimum Estimated Number of Missing' columns\n",
    "* **Number of Survivors**: Number of surviving migrants\n",
    "* **Number of Females/Males/Children**: Number of females/males/children (under 18) found dead or missing\n",
    "* **Cause of Death**: Conditions that resulted in migrant death\n",
    "* **Location Description**: Place where death occured or where bodies were found\n",
    "* **Migration Route**: Name of migration route where incident occured\n",
    "* **UNSD Geographical Grouping**: Region where incident took place, as described by the United Nations Statistics Division "
   ]
  },
  {
   "cell_type": "markdown",
   "id": "8edf0a94",
   "metadata": {},
   "source": [
    "## Part 2: Location, time of year, causes of death"
   ]
  },
  {
   "cell_type": "markdown",
   "id": "fa8518e8",
   "metadata": {},
   "source": [
    "In this first part of my analysis, I will be concerned with the regions and locales where these incidents occured, the time of year they occured, and what were the principal causes of death in hopes to find any patterns or relations."
   ]
  },
  {
   "cell_type": "markdown",
   "id": "b6a7ae24",
   "metadata": {},
   "source": [
    "#### Routes with highest incidents\n",
    "\n",
    "* Which migration routes have the highest number of migrant deaths, both number dead and total dead and missing?"
   ]
  },
  {
   "cell_type": "code",
   "execution_count": 84,
   "id": "4232711b",
   "metadata": {},
   "outputs": [
    {
     "name": "stdout",
     "output_type": "stream",
     "text": [
      "Migration Route\n",
      "Central Mediterranean    4688.0\n",
      "Central America to US    2606.0\n",
      "Eastern Mediterranean    1132.0\n",
      "Name: Number Dead, dtype: float64\n",
      "\n",
      "Migration Route\n",
      "Central Mediterranean    15764\n",
      "Central America to US     2632\n",
      "Western Mediterranean     1798\n",
      "Name: Total Dead and Missing, dtype: int64\n"
     ]
    }
   ],
   "source": [
    "deaths = df.groupby('Migration Route')['Number Dead'].sum().sort_values(ascending = False)\n",
    "print(deaths[0:3])\n",
    "\n",
    "deaths_and_missing = df.groupby('Migration Route')['Total Dead and Missing'].sum().sort_values(ascending = False)\n",
    "print()\n",
    "print(deaths_and_missing[0:3])"
   ]
  },
  {
   "cell_type": "markdown",
   "id": "a505e531",
   "metadata": {},
   "source": [
    "Here we can see that the top three routes for both number of deaths are the Central Mediterranean, Central American to US, and Eastern Mediterranean. The Mediterannean is a highly intersected region, where refugees fleeing from the Middle East, Eastern Europe, and those traveling North through Africa will converge in an attempt to make it to Central and Western Europe. This is a traffic-dense area, which explains the large number of missing and dead migrants. The Central America to US is another migrant-dense route, where refugees fleeing threats such as gang violence, political corruption, and religious persecution will travel North in hopes of making it to the US. And even if a refugee gets to the US border, there is still a harsh conflict line that leaves many dead and missing in their attempt to make it into the US in the final stages of their journey. \n",
    "\n",
    "We can also analyze the spread between those found dead and the total dead and missing, which should equal the \"Minimum Estimated Number of Missing\" column."
   ]
  },
  {
   "cell_type": "code",
   "execution_count": 94,
   "id": "345dfd7f",
   "metadata": {},
   "outputs": [
    {
     "name": "stdout",
     "output_type": "stream",
     "text": [
      "Migration Route\n",
      "Central Mediterranean                        11076.0\n",
      "Western Mediterranean                         1163.0\n",
      "Eastern Mediterranean                          471.0\n",
      "Western African                                217.0\n",
      "Horn Africa to Yemen                           104.0\n",
      "Central America to US                           26.0\n",
      "Caribbean to Central America                    20.0\n",
      "Dominican Republic to Puerto Rico                8.0\n",
      "Western Balkans                                  8.0\n",
      "Darien Gap                                       6.0\n",
      "Malaysia to Indonesia                            6.0\n",
      "Calais to United Kingdom                         0.0\n",
      "From Haiti to Dajabon, Dominican Republic        0.0\n",
      "Italy to France                                  0.0\n",
      "Venezuela to Curaçao                             0.0\n",
      "dtype: float64\n",
      "\n",
      "Migration Route\n",
      "Central Mediterranean                        True\n",
      "Western Mediterranean                        True\n",
      "Eastern Mediterranean                        True\n",
      "Western African                              True\n",
      "Horn Africa to Yemen                         True\n",
      "Central America to US                        True\n",
      "Caribbean to Central America                 True\n",
      "Dominican Republic to Puerto Rico            True\n",
      "Western Balkans                              True\n",
      "Darien Gap                                   True\n",
      "Malaysia to Indonesia                        True\n",
      "Calais to United Kingdom                     True\n",
      "From Haiti to Dajabon, Dominican Republic    True\n",
      "Italy to France                              True\n",
      "Venezuela to Curaçao                         True\n",
      "dtype: bool\n"
     ]
    }
   ],
   "source": [
    "missing = (deaths_and_missing - deaths).sort_values(ascending=False)\n",
    "print(missing)\n",
    "print()\n",
    "print(df.groupby('Migration Route')['Minimum Estimated Number of Missing'].sum().sort_values(ascending=False) == missing)"
   ]
  },
  {
   "cell_type": "markdown",
   "id": "c656d1a3",
   "metadata": {},
   "source": [
    "The number of missing migrants resembles the patterns of the total number of missing and dead migrants, with most incidents occuring in the mediterranean region. It is also confirmed by the boolean expression that the \"by-hand\" calculation of the number of missing migrants equals the \"Minimum Estimated Number of Missing\" column."
   ]
  },
  {
   "cell_type": "markdown",
   "id": "87ba227a",
   "metadata": {},
   "source": [
    "#### Time of year with highest incidents\n",
    "\n",
    "* Which time of year are migrant incidents at their highest? "
   ]
  },
  {
   "cell_type": "code",
   "execution_count": 82,
   "id": "bf8a19f1",
   "metadata": {},
   "outputs": [
    {
     "data": {
      "image/png": "[encoded data removed]",
      "text/plain": [
       "<Figure size 640x480 with 1 Axes>"
      ]
     },
     "metadata": {},
     "output_type": "display_data"
    }
   ],
   "source": [
    "time_of_year = df.groupby('Reported Month')['Total Dead and Missing'].sum().sort_values()\n",
    "time_of_year.plot(kind='barh')\n",
    "plt.xlabel(\"Total Number of Dead and Missing\")\n",
    "plt.show()"
   ]
  },
  {
   "cell_type": "markdown",
   "id": "7bd11989",
   "metadata": {},
   "source": [
    "The time of year does not indicate many significant correlations. The one pattern I do notice, however, is that the highest number of incidents occur May and June, nearing the summer months, which perhaps is a result of the higher temperatures during this time of year. However, I acknowledge that this correlation is not strong. "
   ]
  },
  {
   "cell_type": "markdown",
   "id": "a624c0cb",
   "metadata": {},
   "source": [
    "#### Principle causes of death\n",
    "* What are the leading causes of death among migrants?"
   ]
  },
  {
   "cell_type": "code",
   "execution_count": 81,
   "id": "a04718ed",
   "metadata": {},
   "outputs": [
    {
     "name": "stdout",
     "output_type": "stream",
     "text": [
      "Cause of Death\n",
      "Drowning                                              17707\n",
      "Presumed drowning                                      3656\n",
      "Sickness and lack of access to medicines               1852\n",
      "Unknown                                                1698\n",
      "Vehicle Accident                                       1423\n",
      "                                                      ...  \n",
      "Killed by hippopotamus                                    1\n",
      "Starvation, Excessive Physical Abuse, Sexual abuse        1\n",
      "Killed by hippoptamus                                     1\n",
      "Killed by mortar shell                                    1\n",
      "Presumed vehicle accident                                 1\n",
      "Name: Total Dead and Missing, Length: 266, dtype: int64\n"
     ]
    }
   ],
   "source": [
    "causes = df.groupby('Cause of Death')['Total Dead and Missing'].sum().sort_values(ascending = False)\n",
    "print(causes)"
   ]
  },
  {
   "cell_type": "markdown",
   "id": "0857a660",
   "metadata": {},
   "source": [
    "The leading causes of incidents are drowning and sickess/lack of access to medicines. Since the largest number of incidents occur along the Mediterannean routes where traversing water is a large portion of the journey, it would be consistent that the leading cause of death is drowning. Certain diseases and sicknesses also often strike, especially over longer journeys lasting multiple months, and can become fatal for those with little access to standardized medical care. "
   ]
  },
  {
   "cell_type": "markdown",
   "id": "c97057b1",
   "metadata": {},
   "source": [
    "## Part 3: Gender, age, and survivors"
   ]
  },
  {
   "cell_type": "markdown",
   "id": "ad4b37e2",
   "metadata": {},
   "source": [
    "In the last part of my analysis, I'll be looking at how incidents differ between men, women, and children. I also be looking into the percentage, if any, of groups that survived. "
   ]
  },
  {
   "cell_type": "markdown",
   "id": "d3683ca3",
   "metadata": {},
   "source": [
    "#### Gender and age differences\n",
    "* How do the number of incidents compare between men, women, and children?"
   ]
  },
  {
   "cell_type": "code",
   "execution_count": 68,
   "id": "67e2fcd1",
   "metadata": {},
   "outputs": [
    {
     "name": "stdout",
     "output_type": "stream",
     "text": [
      "               Number of Males  Number of Females  Number of Children\n",
      "Reported Year                                                        \n",
      "2014                     202.0               54.0               300.0\n",
      "2015                     797.0              216.0               291.0\n",
      "2016                     890.0              282.0               268.0\n",
      "2017                    1614.0              546.0               308.0\n",
      "2018                    1715.0              655.0               397.0\n",
      "2019                     838.0              347.0               203.0\n",
      "\n",
      "6056.0\n",
      "2100.0\n",
      "1767.0\n"
     ]
    },
    {
     "name": "stderr",
     "output_type": "stream",
     "text": [
      "/var/folders/qv/mt96nc3121j_wrxm12y_xww40000gn/T/ipykernel_63054/1623565230.py:1: FutureWarning: Indexing with multiple keys (implicitly converted to a tuple of keys) will be deprecated, use a list instead.\n",
      "  gender = df.groupby('Reported Year')['Number of Males', 'Number of Females', 'Number of Children'].aggregate('sum')\n"
     ]
    }
   ],
   "source": [
    "gender = df.groupby('Reported Year')['Number of Males', 'Number of Females', 'Number of Children'].aggregate('sum')\n",
    "print(gender)\n",
    "print()\n",
    "print(gender['Number of Males'].sum())\n",
    "print(gender['Number of Females'].sum())\n",
    "print(gender['Number of Children'].sum())"
   ]
  },
  {
   "cell_type": "markdown",
   "id": "185de94c",
   "metadata": {},
   "source": [
    "Here we can see that men have the highest incident rate, followed by women and then by children. The first data frame indicates the number of incidents in each year separated by males, females, and children, while the latter three numbers represent the total sum of incidents for each male, female, and children grouping for all six years. "
   ]
  },
  {
   "cell_type": "code",
   "execution_count": 69,
   "id": "63d5e105",
   "metadata": {},
   "outputs": [
    {
     "data": {
      "image/png": "[encoded data removed]",
      "text/plain": [
       "<Figure size 640x480 with 1 Axes>"
      ]
     },
     "metadata": {},
     "output_type": "display_data"
    }
   ],
   "source": [
    "gender.plot.bar()\n",
    "plt.ylabel(\"Number of Incidents\")\n",
    "plt.show()"
   ]
  },
  {
   "cell_type": "markdown",
   "id": "59f87840",
   "metadata": {},
   "source": [
    "Visually, we can again see that incidents are most often highest among males, followed by females and children.  "
   ]
  },
  {
   "cell_type": "markdown",
   "id": "df63ad01",
   "metadata": {},
   "source": [
    "#### Survival rates\n",
    "* What is the survival rate by year from this data? What is the average survival rate across all years?"
   ]
  },
  {
   "cell_type": "code",
   "execution_count": 116,
   "id": "d44ac0df",
   "metadata": {},
   "outputs": [
    {
     "name": "stdout",
     "output_type": "stream",
     "text": [
      "               Number of Survivors  Total Dead and Missing  Survival Rate\n",
      "Reported Year                                                            \n",
      "2014                        5553.0                    5287      51.226937\n",
      "2015                        8115.0                    6584      55.207837\n",
      "2016                       17407.0                    8070      68.324371\n",
      "2017                        6424.0                    6279      50.570731\n",
      "2018                        9167.0                    4734      65.944896\n",
      "2019                        4744.0                    2958      61.594391\n",
      "\n",
      "58.81152732995298\n"
     ]
    },
    {
     "name": "stderr",
     "output_type": "stream",
     "text": [
      "/var/folders/qv/mt96nc3121j_wrxm12y_xww40000gn/T/ipykernel_63054/2085049101.py:1: FutureWarning: Indexing with multiple keys (implicitly converted to a tuple of keys) will be deprecated, use a list instead.\n",
      "  survivors = df.groupby('Reported Year')['Number of Survivors', 'Total Dead and Missing'].sum()\n"
     ]
    }
   ],
   "source": [
    "survivors = df.groupby('Reported Year')['Number of Survivors', 'Total Dead and Missing'].sum()\n",
    "survivors['Survival Rate'] = survivors['Number of Survivors'] / (survivors['Total Dead and Missing'] + survivors['Number of Survivors']) * 100\n",
    "\n",
    "print(survivors)\n",
    "print()\n",
    "print(survivors['Survival Rate'].mean())"
   ]
  },
  {
   "cell_type": "markdown",
   "id": "9938cf79",
   "metadata": {},
   "source": [
    "I find this to be one of the most eye-opening segments from this analysis. The average survival rate across all years is just under 60%. An estimated 40% of migrants who set out on their journey, according to this data, will be presumed dead or missing. Not only does this show the danger of these migrations, but also the desperation that many migrants are facing if they are willing to take a chance on surviving knowing that there is a strong likelihood they will not."
   ]
  },
  {
   "cell_type": "markdown",
   "id": "b2cf5bbf",
   "metadata": {},
   "source": [
    "## Part 4: Conclusion and acknowledgements"
   ]
  },
  {
   "cell_type": "markdown",
   "id": "75d00524",
   "metadata": {},
   "source": [
    "Through this analysis, I have attempted to find relationships between migration routes, time of year, gender, and the number of dead, missing, and surviving migrants. While I provided a comprehensive analysis, I also want to acknowledge that neither this exploration nor this data set are perfect. As seen by the number of NaN values, which were eventually replaced by zeroes, there is a significant amount of missing data which weakens any argument. However, I hope that even with these faults, my examination of this data set provides a glimpse into the migrant struggle. "
   ]
  }
 ],
 "metadata": {
  "kernelspec": {
   "display_name": "Python 3 (ipykernel)",
   "language": "python",
   "name": "python3"
  },
  "language_info": {
   "codemirror_mode": {
    "name": "ipython",
    "version": 3
   },
   "file_extension": ".py",
   "mimetype": "text/x-python",
   "name": "python",
   "nbconvert_exporter": "python",
   "pygments_lexer": "ipython3",
   "version": "3.9.13"
  }
 },
 "nbformat": 4,
 "nbformat_minor": 5
}
